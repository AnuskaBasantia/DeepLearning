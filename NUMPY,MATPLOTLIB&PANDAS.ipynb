{
  "nbformat": 4,
  "nbformat_minor": 0,
  "metadata": {
    "colab": {
      "provenance": [],
      "mount_file_id": "1_P9RoYYxwNml7NSlWC0hL8b1ydePilQ2",
      "authorship_tag": "ABX9TyOVQHNhh10K+WQ0m2aCjTkr",
      "include_colab_link": true
    },
    "kernelspec": {
      "name": "python3",
      "display_name": "Python 3"
    },
    "language_info": {
      "name": "python"
    }
  },
  "cells": [
    {
      "cell_type": "markdown",
      "metadata": {
        "id": "view-in-github",
        "colab_type": "text"
      },
      "source": [
        "<a href=\"https://colab.research.google.com/github/AnuskaBasantia/DeepLearning/blob/main/NUMPY%2CMATPLOTLIB%26PANDAS.ipynb\" target=\"_parent\"><img src=\"https://colab.research.google.com/assets/colab-badge.svg\" alt=\"Open In Colab\"/></a>"
      ]
    },
    {
      "cell_type": "markdown",
      "source": [
        "# **NUMPY,MATPLOTLIB & PANDAS**"
      ],
      "metadata": {
        "id": "Tg3maOR__rVc"
      }
    },
    {
      "cell_type": "markdown",
      "source": [
        "# **ANUSKA BASANTIA**"
      ],
      "metadata": {
        "id": "sLMAzn9tZYrR"
      }
    },
    {
      "cell_type": "markdown",
      "source": [
        "**QUESTION 1*\n"
      ],
      "metadata": {
        "id": "Z00BXhVn2wHC"
      }
    },
    {
      "cell_type": "code",
      "execution_count": null,
      "metadata": {
        "colab": {
          "base_uri": "https://localhost:8080/"
        },
        "id": "y_LvdOgs2Qi6",
        "outputId": "87ef8fde-58e4-4ac1-9139-034d54957fd4"
      },
      "outputs": [
        {
          "output_type": "stream",
          "name": "stdout",
          "text": [
            "Matrix x:\n",
            " [[ 1  2  3  4]\n",
            " [ 5  6  7  8]\n",
            " [ 9 10 11 12]]\n"
          ]
        }
      ],
      "source": [
        "import numpy as np\n",
        "#a\n",
        "X=np.array([[1,2,3,4],\n",
        "            [5,6,7,8],\n",
        "            [9,10,11,12]])\n",
        "print(\"Matrix x:\\n\",X)"
      ]
    },
    {
      "cell_type": "code",
      "source": [
        "#b\n",
        "import numpy as np\n",
        "Y=np.array([1,2,3,4,5,6])\n",
        "print(\"vector y:\\n\",Y)"
      ],
      "metadata": {
        "colab": {
          "base_uri": "https://localhost:8080/"
        },
        "id": "qwHoiYtX2_pU",
        "outputId": "8ab79475-8ed8-44b8-85a5-a4c2ec18515a"
      },
      "execution_count": null,
      "outputs": [
        {
          "output_type": "stream",
          "name": "stdout",
          "text": [
            "vector y:\n",
            " [1 2 3 4 5 6]\n"
          ]
        }
      ]
    },
    {
      "cell_type": "code",
      "source": [
        "#c\n",
        "print(\"Elements X_13, X_22, X_32:\")\n",
        "print(\"X_13 =\", X[0, 2])  # X_13\n",
        "print(\"X_22 =\", X[1, 1])  # X_22\n",
        "print(\"X_32 =\", X[2, 1])  # X_32\n",
        "\n"
      ],
      "metadata": {
        "colab": {
          "base_uri": "https://localhost:8080/"
        },
        "id": "G_P2JTaj3Iaj",
        "outputId": "a6f34a15-d9cb-4973-f6f2-1d6a7a361d9a"
      },
      "execution_count": null,
      "outputs": [
        {
          "output_type": "stream",
          "name": "stdout",
          "text": [
            "Elements X_13, X_22, X_32:\n",
            "X_13 = 3\n",
            "X_22 = 6\n",
            "X_32 = 10\n"
          ]
        }
      ]
    },
    {
      "cell_type": "code",
      "source": [
        "print(\"\\nFirst 3 elements of y:\", Y[:3])\n",
        "print(\"Last 3 elements of y:\", Y[-3:])"
      ],
      "metadata": {
        "colab": {
          "base_uri": "https://localhost:8080/"
        },
        "id": "6pJqEypi3KII",
        "outputId": "7ee7d365-8bf3-4a54-eb90-894e2ad8ca1f"
      },
      "execution_count": null,
      "outputs": [
        {
          "output_type": "stream",
          "name": "stdout",
          "text": [
            "\n",
            "First 3 elements of y: [1 2 3]\n",
            "Last 3 elements of y: [4 5 6]\n"
          ]
        }
      ]
    },
    {
      "cell_type": "code",
      "source": [
        "print(\"the size of the matrix X:\",X.shape)#gives the size of the matrix\n",
        "print(\"the size of the matrix Y:\",Y.shape)\n",
        "print(\"the number of elements in X:\",X.size)\n",
        "print(\"the number of elements in Y:\",Y.size)\n",
        "print(\"the dimension of the matrix X:\",X.ndim)#dimension\n",
        "print(\"the dimension of the matrix Y:\",Y.ndim)\n"
      ],
      "metadata": {
        "colab": {
          "base_uri": "https://localhost:8080/"
        },
        "id": "0ciRy4-V3RcK",
        "outputId": "61b7baa2-314f-4529-f662-24e99830b1d4"
      },
      "execution_count": null,
      "outputs": [
        {
          "output_type": "stream",
          "name": "stdout",
          "text": [
            "the size of the matrix X: (3, 4)\n",
            "the size of the matrix Y: (6,)\n",
            "the number of elements in X: 12\n",
            "the number of elements in Y: 6\n",
            "the dimension of the matrix X: 2\n",
            "the dimension of the matrix Y: 1\n"
          ]
        }
      ]
    },
    {
      "cell_type": "code",
      "source": [
        "X_10 = X + 10\n",
        "print(\"Matrix X_10 = X + 10:\\n\", X_10)\n"
      ],
      "metadata": {
        "colab": {
          "base_uri": "https://localhost:8080/"
        },
        "id": "ei8LroIf3Sie",
        "outputId": "21302b8d-c8c2-4b61-f0ee-f4ea5ef67270"
      },
      "execution_count": null,
      "outputs": [
        {
          "output_type": "stream",
          "name": "stdout",
          "text": [
            "Matrix X_10 = X + 10:\n",
            " [[11 12 13 14]\n",
            " [15 16 17 18]\n",
            " [19 20 21 22]]\n"
          ]
        }
      ]
    },
    {
      "cell_type": "code",
      "source": [
        "print(\"Maximum value in X:\",X.max())\n",
        "print(\"Minimum value in X:\", X.min())\n",
        "print(\"Maximum value in Y:\",Y.max())\n",
        "print(\"Minimum value in Y:\", Y.min())\n"
      ],
      "metadata": {
        "colab": {
          "base_uri": "https://localhost:8080/"
        },
        "id": "AUwD70Jb3XOf",
        "outputId": "80d8d142-81de-4f74-a1bc-7e57c4f0bda4"
      },
      "execution_count": null,
      "outputs": [
        {
          "output_type": "stream",
          "name": "stdout",
          "text": [
            "Maximum value in X: 12\n",
            "Minimum value in X: 1\n",
            "Maximum value in Y: 6\n",
            "Minimum value in Y: 1\n"
          ]
        }
      ]
    },
    {
      "cell_type": "code",
      "source": [
        "print(\"the average of the matrix X:\",X.mean())\n",
        "print(\"the average of the matrix Y:\",Y.mean())\n",
        "print(\"the variance of the matrix X:\",X.var())\n",
        "print(\"the variance of the matrix X:\",Y.var())\n",
        "print(\"the standard deviation of the matrix X:\",X.std())\n",
        "print(\"the standard deviation of the matrix X:\",X.std())"
      ],
      "metadata": {
        "colab": {
          "base_uri": "https://localhost:8080/"
        },
        "id": "8xdgfTLq3XoO",
        "outputId": "52a49577-023b-4f99-cbd4-70ea7851a208"
      },
      "execution_count": null,
      "outputs": [
        {
          "output_type": "stream",
          "name": "stdout",
          "text": [
            "the average of the matrix X: 6.5\n",
            "the average of the matrix Y: 3.5\n",
            "the variance of the matrix X: 11.916666666666666\n",
            "the variance of the matrix X: 2.9166666666666665\n",
            "the standard deviation of the matrix X: 3.452052529534663\n",
            "the standard deviation of the matrix X: 3.452052529534663\n"
          ]
        }
      ]
    },
    {
      "cell_type": "code",
      "source": [
        "print(\"reshape X(2x6)\",X.reshape(2,6))"
      ],
      "metadata": {
        "colab": {
          "base_uri": "https://localhost:8080/"
        },
        "id": "YfZZBLq83YGC",
        "outputId": "2258e440-8f50-4c87-ab97-79b72c6bd54d"
      },
      "execution_count": null,
      "outputs": [
        {
          "output_type": "stream",
          "name": "stdout",
          "text": [
            "reshape X(2x6) [[ 1  2  3  4  5  6]\n",
            " [ 7  8  9 10 11 12]]\n"
          ]
        }
      ]
    },
    {
      "cell_type": "code",
      "source": [
        "print(\"transpose of X\",X.T)\n",
        "print(\"transpose of y\", Y.reshape(-1, 1))"
      ],
      "metadata": {
        "colab": {
          "base_uri": "https://localhost:8080/"
        },
        "id": "myK-JJwU3YYv",
        "outputId": "eae81c2c-2f58-47b1-d787-cbc5581425a7"
      },
      "execution_count": null,
      "outputs": [
        {
          "output_type": "stream",
          "name": "stdout",
          "text": [
            "transpose of X [[ 1  5  9]\n",
            " [ 2  6 10]\n",
            " [ 3  7 11]\n",
            " [ 4  8 12]]\n",
            "transpose of y [[1]\n",
            " [2]\n",
            " [3]\n",
            " [4]\n",
            " [5]\n",
            " [6]]\n"
          ]
        }
      ]
    },
    {
      "cell_type": "code",
      "source": [
        "print(\"flatten X:\",X.flatten())\n"
      ],
      "metadata": {
        "colab": {
          "base_uri": "https://localhost:8080/"
        },
        "id": "ZjnfhJ263Yup",
        "outputId": "b3b9b6aa-cf47-4637-9c87-0535f6b901c4"
      },
      "execution_count": null,
      "outputs": [
        {
          "output_type": "stream",
          "name": "stdout",
          "text": [
            "flatten X: [ 1  2  3  4  5  6  7  8  9 10 11 12]\n"
          ]
        }
      ]
    },
    {
      "cell_type": "code",
      "source": [
        "P = np.array([[1, 3, 6],\n",
        "              [2, 4, 5],\n",
        "              [2, 2, 7]])\n",
        "print(\"matrix p:\",P)"
      ],
      "metadata": {
        "colab": {
          "base_uri": "https://localhost:8080/"
        },
        "id": "n6PuThl53uZ9",
        "outputId": "08ecf3f4-ddc1-4120-ede5-fc23090e7c13"
      },
      "execution_count": null,
      "outputs": [
        {
          "output_type": "stream",
          "name": "stdout",
          "text": [
            "matrix p: [[1 3 6]\n",
            " [2 4 5]\n",
            " [2 2 7]]\n"
          ]
        }
      ]
    },
    {
      "cell_type": "code",
      "source": [
        "print(\"Rank of P:\", np.linalg.matrix_rank(P))"
      ],
      "metadata": {
        "colab": {
          "base_uri": "https://localhost:8080/"
        },
        "id": "Zplg9VNW3w5l",
        "outputId": "abeddf99-e94b-45db-c4a4-25d5cd7b2f3f"
      },
      "execution_count": null,
      "outputs": [
        {
          "output_type": "stream",
          "name": "stdout",
          "text": [
            "Rank of P: 3\n"
          ]
        }
      ]
    },
    {
      "cell_type": "code",
      "source": [
        "print(\"Determinant of P:\", np.linalg.det(P))"
      ],
      "metadata": {
        "colab": {
          "base_uri": "https://localhost:8080/"
        },
        "id": "LXQJhyDF3xVm",
        "outputId": "cf484719-63c7-4767-ce0a-7be8763b2d30"
      },
      "execution_count": null,
      "outputs": [
        {
          "output_type": "stream",
          "name": "stdout",
          "text": [
            "Determinant of P: -17.999999999999996\n"
          ]
        }
      ]
    },
    {
      "cell_type": "code",
      "source": [
        "print(\"Diagonal of P:\", np.diag(P))"
      ],
      "metadata": {
        "colab": {
          "base_uri": "https://localhost:8080/"
        },
        "id": "cw3WhKrQ3xzq",
        "outputId": "03fe5da4-57bb-4537-cfd1-7f882bcf12cd"
      },
      "execution_count": null,
      "outputs": [
        {
          "output_type": "stream",
          "name": "stdout",
          "text": [
            "Diagonal of P: [1 4 7]\n"
          ]
        }
      ]
    },
    {
      "cell_type": "code",
      "source": [
        "print(\"Trace of P:\", np.trace(P))"
      ],
      "metadata": {
        "colab": {
          "base_uri": "https://localhost:8080/"
        },
        "id": "4Qki-9Qq35dr",
        "outputId": "a169795e-cc7f-49fd-f437-b18ff9ccd3fc"
      },
      "execution_count": null,
      "outputs": [
        {
          "output_type": "stream",
          "name": "stdout",
          "text": [
            "Trace of P: 12\n"
          ]
        }
      ]
    },
    {
      "cell_type": "code",
      "source": [
        "eigenvalues, eigenvectors = np.linalg.eig(P)\n",
        "print(\"Eigenvalues of P:\", eigenvalues)\n",
        "print(\"Eigenvectors of P:\", eigenvectors)"
      ],
      "metadata": {
        "colab": {
          "base_uri": "https://localhost:8080/"
        },
        "id": "bVFQXuwM38C9",
        "outputId": "ea93bc5f-ae23-432e-8971-a7a4bbabb45b"
      },
      "execution_count": null,
      "outputs": [
        {
          "output_type": "stream",
          "name": "stdout",
          "text": [
            "Eigenvalues of P: [-0.83095189 10.83095189  2.        ]\n",
            "Eigenvectors of P: [[-0.96101663  0.5434172  -0.1576765 ]\n",
            " [ 0.19550836  0.59358982 -0.89350016]\n",
            " [ 0.19550836  0.59358982  0.42047066]]\n"
          ]
        }
      ]
    },
    {
      "cell_type": "code",
      "source": [
        "z = np.array([2, 3, 6, 2, 5, 2])\n",
        "dot_product = np.dot(Y, z)\n",
        "print(\"\\nDot product of y and z:\", dot_product)"
      ],
      "metadata": {
        "colab": {
          "base_uri": "https://localhost:8080/"
        },
        "id": "uZLUENwt3_RI",
        "outputId": "e2faade3-7a66-4f1f-be8b-ac8bb4ae5dd8"
      },
      "execution_count": null,
      "outputs": [
        {
          "output_type": "stream",
          "name": "stdout",
          "text": [
            "\n",
            "Dot product of y and z: 71\n"
          ]
        }
      ]
    },
    {
      "cell_type": "code",
      "source": [
        "Q = np.array([[4, 6, 7],\n",
        "              [5, 5, 2],\n",
        "              [3, 4, 6]])\n",
        "print(\"Matrix Q:\\n\", Q)\n",
        "print(\"P + Q:\", P + Q)\n",
        "print(\"P - Q:\", P - Q)"
      ],
      "metadata": {
        "colab": {
          "base_uri": "https://localhost:8080/"
        },
        "id": "gEd1Nqer4Bsh",
        "outputId": "a5c4478e-a710-47b3-a31c-9ec63a1f3828"
      },
      "execution_count": null,
      "outputs": [
        {
          "output_type": "stream",
          "name": "stdout",
          "text": [
            "Matrix Q:\n",
            " [[4 6 7]\n",
            " [5 5 2]\n",
            " [3 4 6]]\n",
            "P + Q: [[ 5  9 13]\n",
            " [ 7  9  7]\n",
            " [ 5  6 13]]\n",
            "P - Q: [[-3 -3 -1]\n",
            " [-3 -1  3]\n",
            " [-1 -2  1]]\n"
          ]
        }
      ]
    },
    {
      "cell_type": "code",
      "source": [
        "print(\"\\nElement-wise product of P and Q:\\n\", P * Q)"
      ],
      "metadata": {
        "colab": {
          "base_uri": "https://localhost:8080/"
        },
        "id": "bPx1wGgd4DiM",
        "outputId": "294a3819-c3ec-4067-cb4f-5a85c2b64931"
      },
      "execution_count": null,
      "outputs": [
        {
          "output_type": "stream",
          "name": "stdout",
          "text": [
            "\n",
            "Element-wise product of P and Q:\n",
            " [[ 4 18 42]\n",
            " [10 20 10]\n",
            " [ 6  8 42]]\n"
          ]
        }
      ]
    },
    {
      "cell_type": "code",
      "source": [
        "print(\"\\nInverse of P:\", np.linalg.inv(P))\n",
        "print(\"\\nInverse of Q:\", np.linalg.inv(Q))"
      ],
      "metadata": {
        "colab": {
          "base_uri": "https://localhost:8080/"
        },
        "id": "QukIH6Tj4FWI",
        "outputId": "b58c1c30-d8ad-4b93-8a19-fdf282fdea22"
      },
      "execution_count": null,
      "outputs": [
        {
          "output_type": "stream",
          "name": "stdout",
          "text": [
            "\n",
            "Inverse of P: [[-1.          0.5         0.5       ]\n",
            " [ 0.22222222  0.27777778 -0.38888889]\n",
            " [ 0.22222222 -0.22222222  0.11111111]]\n",
            "\n",
            "Inverse of Q: [[-1.04761905  0.38095238  1.0952381 ]\n",
            " [ 1.14285714 -0.14285714 -1.28571429]\n",
            " [-0.23809524 -0.0952381   0.47619048]]\n"
          ]
        }
      ]
    },
    {
      "cell_type": "code",
      "source": [
        "random_uniform = np.random.uniform(size=10)\n",
        "random_gaussian = np.random.normal(size=10)\n",
        "random_logistic = np.random.logistic(size=10)\n",
        "print(\"\\nRandom numbers (Uniform):\", random_uniform)\n",
        "print(\"\\nRandom numbers (Gaussian):\", random_gaussian)\n",
        "print(\"\\nRandom numbers (Logistic):\", random_logistic)"
      ],
      "metadata": {
        "colab": {
          "base_uri": "https://localhost:8080/"
        },
        "id": "nsoOZW1x4HVE",
        "outputId": "a49a56b0-1757-43b5-b13f-dd276cbdef0e"
      },
      "execution_count": null,
      "outputs": [
        {
          "output_type": "stream",
          "name": "stdout",
          "text": [
            "\n",
            "Random numbers (Uniform): [0.05423039 0.74193349 0.58887994 0.36757415 0.95057934 0.35587756\n",
            " 0.38193595 0.07692944 0.06229459 0.95605406]\n",
            "\n",
            "Random numbers (Gaussian): [ 1.08998405  0.29415118 -0.12792188  0.35205133  0.48178514 -0.9164826\n",
            "  0.76030243  1.05918503 -0.33447118  0.5512066 ]\n",
            "\n",
            "Random numbers (Logistic): [ 1.28925213  0.47595497 -2.2999659   3.17530354 -0.40888129  3.05850576\n",
            "  0.17493838 -0.45922932  0.45267935 -0.22190549]\n"
          ]
        }
      ]
    },
    {
      "cell_type": "markdown",
      "source": [
        "**QUESTION 2**"
      ],
      "metadata": {
        "id": "U4Pt1_Ov4oAp"
      }
    },
    {
      "cell_type": "code",
      "source": [
        "#(A)\n",
        "import pandas as pd\n",
        "df=pd.read_csv(r'/content/drive/MyDrive/dataset/BostonHousing.csv')\n",
        "\n",
        "print(df.head(5))\n",
        "print(\"rows and columns\",df.shape)\n",
        "print(df.describe())\n",
        "\n"
      ],
      "metadata": {
        "id": "RI9-zOBM407J",
        "colab": {
          "base_uri": "https://localhost:8080/"
        },
        "outputId": "addc0571-f62a-45e4-aa96-6a87140909c7"
      },
      "execution_count": null,
      "outputs": [
        {
          "output_type": "stream",
          "name": "stdout",
          "text": [
            "      crim    zn  indus  chas    nox     rm   age     dis  rad  tax  ptratio  \\\n",
            "0  0.00632  18.0   2.31     0  0.538  6.575  65.2  4.0900    1  296     15.3   \n",
            "1  0.02731   0.0   7.07     0  0.469  6.421  78.9  4.9671    2  242     17.8   \n",
            "2  0.02729   0.0   7.07     0  0.469  7.185  61.1  4.9671    2  242     17.8   \n",
            "3  0.03237   0.0   2.18     0  0.458  6.998  45.8  6.0622    3  222     18.7   \n",
            "4  0.06905   0.0   2.18     0  0.458  7.147  54.2  6.0622    3  222     18.7   \n",
            "\n",
            "        b  lstat  medv  \n",
            "0  396.90   4.98  24.0  \n",
            "1  396.90   9.14  21.6  \n",
            "2  392.83   4.03  34.7  \n",
            "3  394.63   2.94  33.4  \n",
            "4  396.90   5.33  36.2  \n",
            "rows and columns (506, 14)\n",
            "             crim          zn       indus        chas         nox          rm  \\\n",
            "count  506.000000  506.000000  506.000000  506.000000  506.000000  506.000000   \n",
            "mean     3.613524   11.363636   11.136779    0.069170    0.554695    6.284634   \n",
            "std      8.601545   23.322453    6.860353    0.253994    0.115878    0.702617   \n",
            "min      0.006320    0.000000    0.460000    0.000000    0.385000    3.561000   \n",
            "25%      0.082045    0.000000    5.190000    0.000000    0.449000    5.885500   \n",
            "50%      0.256510    0.000000    9.690000    0.000000    0.538000    6.208500   \n",
            "75%      3.677083   12.500000   18.100000    0.000000    0.624000    6.623500   \n",
            "max     88.976200  100.000000   27.740000    1.000000    0.871000    8.780000   \n",
            "\n",
            "              age         dis         rad         tax     ptratio           b  \\\n",
            "count  506.000000  506.000000  506.000000  506.000000  506.000000  506.000000   \n",
            "mean    68.574901    3.795043    9.549407  408.237154   18.455534  356.674032   \n",
            "std     28.148861    2.105710    8.707259  168.537116    2.164946   91.294864   \n",
            "min      2.900000    1.129600    1.000000  187.000000   12.600000    0.320000   \n",
            "25%     45.025000    2.100175    4.000000  279.000000   17.400000  375.377500   \n",
            "50%     77.500000    3.207450    5.000000  330.000000   19.050000  391.440000   \n",
            "75%     94.075000    5.188425   24.000000  666.000000   20.200000  396.225000   \n",
            "max    100.000000   12.126500   24.000000  711.000000   22.000000  396.900000   \n",
            "\n",
            "            lstat        medv  \n",
            "count  506.000000  506.000000  \n",
            "mean    12.653063   22.532806  \n",
            "std      7.141062    9.197104  \n",
            "min      1.730000    5.000000  \n",
            "25%      6.950000   17.025000  \n",
            "50%     11.360000   21.200000  \n",
            "75%     16.955000   25.000000  \n",
            "max     37.970000   50.000000  \n"
          ]
        }
      ]
    },
    {
      "cell_type": "code",
      "source": [
        "#b\n",
        "import pandas as pd\n",
        "df=pd.read_csv(r'/content/drive/MyDrive/dataset/iris.csv')\n",
        "print(df.head(5))\n",
        "print(df.shape)\n",
        "print(df.describe())"
      ],
      "metadata": {
        "colab": {
          "base_uri": "https://localhost:8080/"
        },
        "id": "2YN9CgLr6LJ6",
        "outputId": "57c2112e-b2e6-4aa0-b697-f6337c1d338b"
      },
      "execution_count": null,
      "outputs": [
        {
          "output_type": "stream",
          "name": "stdout",
          "text": [
            "   sepal.length  sepal.width  petal.length  petal.width variety\n",
            "0           5.1          3.5           1.4          0.2  Setosa\n",
            "1           4.9          3.0           1.4          0.2  Setosa\n",
            "2           4.7          3.2           1.3          0.2  Setosa\n",
            "3           4.6          3.1           1.5          0.2  Setosa\n",
            "4           5.0          3.6           1.4          0.2  Setosa\n",
            "(150, 5)\n",
            "       sepal.length  sepal.width  petal.length  petal.width\n",
            "count    150.000000   150.000000    150.000000   150.000000\n",
            "mean       5.843333     3.057333      3.758000     1.199333\n",
            "std        0.828066     0.435866      1.765298     0.762238\n",
            "min        4.300000     2.000000      1.000000     0.100000\n",
            "25%        5.100000     2.800000      1.600000     0.300000\n",
            "50%        5.800000     3.000000      4.350000     1.300000\n",
            "75%        6.400000     3.300000      5.100000     1.800000\n",
            "max        7.900000     4.400000      6.900000     2.500000\n"
          ]
        }
      ]
    },
    {
      "cell_type": "code",
      "source": [
        "#c\n",
        "import pandas as pd\n",
        "df=pd.read_csv(r'/content/drive/MyDrive/dataset/test.csv')\n",
        "print(df.head(5))\n",
        "print(df.shape)\n",
        "print(df.describe())"
      ],
      "metadata": {
        "id": "sc5NZYo26vyj",
        "colab": {
          "base_uri": "https://localhost:8080/"
        },
        "outputId": "9eb3306a-0fad-4947-82a2-07279d5a9d3d"
      },
      "execution_count": null,
      "outputs": [
        {
          "output_type": "stream",
          "name": "stdout",
          "text": [
            "   pixel0  pixel1  pixel2  pixel3  pixel4  pixel5  pixel6  pixel7  pixel8  \\\n",
            "0       0       0       0       0       0       0       0       0       0   \n",
            "1       0       0       0       0       0       0       0       0       0   \n",
            "2       0       0       0       0       0       0       0       0       0   \n",
            "3       0       0       0       0       0       0       0       0       0   \n",
            "4       0       0       0       0       0       0       0       0       0   \n",
            "\n",
            "   pixel9  ...  pixel774  pixel775  pixel776  pixel777  pixel778  pixel779  \\\n",
            "0       0  ...         0         0         0         0         0         0   \n",
            "1       0  ...         0         0         0         0         0         0   \n",
            "2       0  ...         0         0         0         0         0         0   \n",
            "3       0  ...         0         0         0         0         0         0   \n",
            "4       0  ...         0         0         0         0         0         0   \n",
            "\n",
            "   pixel780  pixel781  pixel782  pixel783  \n",
            "0         0         0         0         0  \n",
            "1         0         0         0         0  \n",
            "2         0         0         0         0  \n",
            "3         0         0         0         0  \n",
            "4         0         0         0         0  \n",
            "\n",
            "[5 rows x 784 columns]\n",
            "(28000, 784)\n",
            "        pixel0   pixel1   pixel2   pixel3   pixel4   pixel5   pixel6   pixel7  \\\n",
            "count  28000.0  28000.0  28000.0  28000.0  28000.0  28000.0  28000.0  28000.0   \n",
            "mean       0.0      0.0      0.0      0.0      0.0      0.0      0.0      0.0   \n",
            "std        0.0      0.0      0.0      0.0      0.0      0.0      0.0      0.0   \n",
            "min        0.0      0.0      0.0      0.0      0.0      0.0      0.0      0.0   \n",
            "25%        0.0      0.0      0.0      0.0      0.0      0.0      0.0      0.0   \n",
            "50%        0.0      0.0      0.0      0.0      0.0      0.0      0.0      0.0   \n",
            "75%        0.0      0.0      0.0      0.0      0.0      0.0      0.0      0.0   \n",
            "max        0.0      0.0      0.0      0.0      0.0      0.0      0.0      0.0   \n",
            "\n",
            "        pixel8   pixel9  ...      pixel774      pixel775      pixel776  \\\n",
            "count  28000.0  28000.0  ...  28000.000000  28000.000000  28000.000000   \n",
            "mean       0.0      0.0  ...      0.164607      0.073214      0.028036   \n",
            "std        0.0      0.0  ...      5.473293      3.616811      1.813602   \n",
            "min        0.0      0.0  ...      0.000000      0.000000      0.000000   \n",
            "25%        0.0      0.0  ...      0.000000      0.000000      0.000000   \n",
            "50%        0.0      0.0  ...      0.000000      0.000000      0.000000   \n",
            "75%        0.0      0.0  ...      0.000000      0.000000      0.000000   \n",
            "max        0.0      0.0  ...    253.000000    254.000000    193.000000   \n",
            "\n",
            "           pixel777      pixel778  pixel779  pixel780  pixel781  pixel782  \\\n",
            "count  28000.000000  28000.000000   28000.0   28000.0   28000.0   28000.0   \n",
            "mean       0.011250      0.006536       0.0       0.0       0.0       0.0   \n",
            "std        1.205211      0.807475       0.0       0.0       0.0       0.0   \n",
            "min        0.000000      0.000000       0.0       0.0       0.0       0.0   \n",
            "25%        0.000000      0.000000       0.0       0.0       0.0       0.0   \n",
            "50%        0.000000      0.000000       0.0       0.0       0.0       0.0   \n",
            "75%        0.000000      0.000000       0.0       0.0       0.0       0.0   \n",
            "max      187.000000    119.000000       0.0       0.0       0.0       0.0   \n",
            "\n",
            "       pixel783  \n",
            "count   28000.0  \n",
            "mean        0.0  \n",
            "std         0.0  \n",
            "min         0.0  \n",
            "25%         0.0  \n",
            "50%         0.0  \n",
            "75%         0.0  \n",
            "max         0.0  \n",
            "\n",
            "[8 rows x 784 columns]\n"
          ]
        }
      ]
    },
    {
      "cell_type": "markdown",
      "source": [
        "**QUESTION 3**"
      ],
      "metadata": {
        "id": "dEUSy3qMBItN"
      }
    },
    {
      "cell_type": "code",
      "source": [
        "#A,B,C,D\n",
        "import numpy as np\n",
        "sample=100 # ROW\n",
        "features=4 # COLUMN\n",
        "target=1\n",
        "X=np.random.rand(sample,features)#NP.RANDOM.RAND(ROW,COLUMN)\n",
        "Y=np.random.rand(sample,target)\n",
        "print(X[:6])\n",
        "print(Y[:6])\n",
        "#the function np.random.rand gives ZERO NOISE"
      ],
      "metadata": {
        "colab": {
          "base_uri": "https://localhost:8080/"
        },
        "id": "_v5WRmpNA_NT",
        "outputId": "57107567-0bd1-47fb-bef7-0377827e30d5"
      },
      "execution_count": null,
      "outputs": [
        {
          "output_type": "stream",
          "name": "stdout",
          "text": [
            "[[0.56711975 0.52460064 0.75922527 0.69144858]\n",
            " [0.79711816 0.70855544 0.97706169 0.65007655]\n",
            " [0.66088424 0.34876235 0.10326016 0.05616483]\n",
            " [0.90918569 0.46627151 0.30715781 0.64110596]\n",
            " [0.48122244 0.42016443 0.08518939 0.69151548]\n",
            " [0.4861954  0.13694408 0.71645403 0.39055162]]\n",
            "[[0.75319094]\n",
            " [0.14682567]\n",
            " [0.86227801]\n",
            " [0.76412588]\n",
            " [0.85830854]\n",
            " [0.5838176 ]]\n"
          ]
        }
      ]
    },
    {
      "cell_type": "markdown",
      "source": [
        "**QUESTION 4**"
      ],
      "metadata": {
        "id": "GbBOH45RC97m"
      }
    },
    {
      "cell_type": "code",
      "source": [
        "#A,B,C,D\n",
        "import numpy as np\n",
        "sample=100\n",
        "features=4\n",
        "classes=2\n",
        "x=np.random.rand(sample,features)\n",
        "y=np.random.choice(classes,sample) #np.random.choice(class,size) size=100,but range(0,2)\n",
        "print(x[:10])\n",
        "print()\n",
        "print(y[:10])"
      ],
      "metadata": {
        "colab": {
          "base_uri": "https://localhost:8080/"
        },
        "id": "uqb55siFDCLM",
        "outputId": "55a55bb1-700a-4625-cd25-e748233a0fcd"
      },
      "execution_count": null,
      "outputs": [
        {
          "output_type": "stream",
          "name": "stdout",
          "text": [
            "[[0.40360498 0.3402685  0.83904626 0.75358492]\n",
            " [0.73955978 0.06116513 0.95870463 0.52992378]\n",
            " [0.25310171 0.32657771 0.44248349 0.41728362]\n",
            " [0.82513742 0.1100968  0.42169606 0.0192855 ]\n",
            " [0.00746751 0.09165189 0.72965774 0.01526344]\n",
            " [0.27659269 0.96962001 0.56066006 0.90123125]\n",
            " [0.18786687 0.02845518 0.47138953 0.9542371 ]\n",
            " [0.58691011 0.96756535 0.90909323 0.10579965]\n",
            " [0.67694485 0.6605228  0.28480651 0.36396473]\n",
            " [0.64929356 0.84610061 0.84747624 0.81350463]]\n",
            "\n",
            "[1 0 1 0 0 0 1 0 0 1]\n"
          ]
        }
      ]
    },
    {
      "cell_type": "markdown",
      "source": [
        "**QUESTION 5**"
      ],
      "metadata": {
        "id": "Cgm0mHUXFBWj"
      }
    },
    {
      "cell_type": "code",
      "source": [
        "import pandas as pd\n",
        "#a\n",
        "a=pd.Series([7,11,13,17])\n",
        "print(a)\n",
        "#b\n",
        "print()\n",
        "b=pd.Series([100.0] for i in range (5))\n",
        "print(b)\n",
        "#c\n",
        "print()\n",
        "import numpy as np\n",
        "c=pd.Series(np.random.randint(0,21,20))\n",
        "print(c)\n",
        "print()\n",
        "print(c.describe())\n",
        "#d\n",
        "print()\n",
        "d=pd.Series({'julie':98.6,'charlie':98.9,'sam':100.2,'Andrea':97.9})\n",
        "print(d)"
      ],
      "metadata": {
        "colab": {
          "base_uri": "https://localhost:8080/"
        },
        "id": "j0PQN56IFBCf",
        "outputId": "5f1ab77b-1881-4a87-d905-887ea73b389a"
      },
      "execution_count": null,
      "outputs": [
        {
          "output_type": "stream",
          "name": "stdout",
          "text": [
            "0     7\n",
            "1    11\n",
            "2    13\n",
            "3    17\n",
            "dtype: int64\n",
            "\n",
            "0    [100.0]\n",
            "1    [100.0]\n",
            "2    [100.0]\n",
            "3    [100.0]\n",
            "4    [100.0]\n",
            "dtype: object\n",
            "\n",
            "0     19\n",
            "1     12\n",
            "2     14\n",
            "3      3\n",
            "4     15\n",
            "5      9\n",
            "6      5\n",
            "7      9\n",
            "8      9\n",
            "9      7\n",
            "10    11\n",
            "11     2\n",
            "12    15\n",
            "13    10\n",
            "14    18\n",
            "15     9\n",
            "16    16\n",
            "17    16\n",
            "18     9\n",
            "19    13\n",
            "dtype: int64\n",
            "\n",
            "count    20.000000\n",
            "mean     11.050000\n",
            "std       4.740364\n",
            "min       2.000000\n",
            "25%       9.000000\n",
            "50%      10.500000\n",
            "75%      15.000000\n",
            "max      19.000000\n",
            "dtype: float64\n",
            "\n",
            "julie       98.6\n",
            "charlie     98.9\n",
            "sam        100.2\n",
            "Andrea      97.9\n",
            "dtype: float64\n"
          ]
        }
      ]
    },
    {
      "cell_type": "markdown",
      "source": [
        "**QUESTION 06**"
      ],
      "metadata": {
        "id": "IXDtzF5HVMXm"
      }
    },
    {
      "cell_type": "code",
      "source": [
        "import pandas as pd\n",
        "datas= {'name': ['Anastasia', 'Dima', 'Katherine', 'James',\n",
        "'Emily', 'Michael', 'Matthew', 'Laura', 'Kevin', 'Jonas'],\n",
        "'score': [12.5, 9, 16.5, None, 9, 20, 14.5, None, 8, 19],\n",
        "'attempts': [1, 3, 2, 3, 2, 3, 1, 1, 2, 1],\n",
        "'qualify': ['yes', 'no', 'yes', 'no', 'no', 'yes', 'yes', 'no', 'no',\n",
        "'yes']\n",
        "}\n",
        "labels = ['a', 'b', 'c', 'd', 'e', 'f', 'g', 'h', 'i', 'j']\n",
        "\n",
        "#A\n",
        "df=pd.DataFrame(datas,index=labels)\n",
        "print(df)\n",
        "print()\n",
        "#B\n",
        "df.loc[df['name']=='james','name']='suresh'\n",
        "print(\"updated dataset:\\n\",df)\n",
        "print()\n",
        "#C\n",
        "df['color']=['black','white','violet','green','red','indigo','blue','yellow','orange','lilac']\n",
        "print(df)\n",
        "print()\n",
        "#D\n",
        "column_headers = df.columns.tolist()\n",
        "print(column_headers)"
      ],
      "metadata": {
        "id": "uNHS9L1yIYC-",
        "colab": {
          "base_uri": "https://localhost:8080/"
        },
        "outputId": "02d4d16d-164e-4040-c9da-6fcd5b462522"
      },
      "execution_count": null,
      "outputs": [
        {
          "output_type": "stream",
          "name": "stdout",
          "text": [
            "        name  score  attempts qualify\n",
            "a  Anastasia   12.5         1     yes\n",
            "b       Dima    9.0         3      no\n",
            "c  Katherine   16.5         2     yes\n",
            "d      James    NaN         3      no\n",
            "e      Emily    9.0         2      no\n",
            "f    Michael   20.0         3     yes\n",
            "g    Matthew   14.5         1     yes\n",
            "h      Laura    NaN         1      no\n",
            "i      Kevin    8.0         2      no\n",
            "j      Jonas   19.0         1     yes\n",
            "\n",
            "updated dataset:\n",
            "         name  score  attempts qualify\n",
            "a  Anastasia   12.5         1     yes\n",
            "b       Dima    9.0         3      no\n",
            "c  Katherine   16.5         2     yes\n",
            "d      James    NaN         3      no\n",
            "e      Emily    9.0         2      no\n",
            "f    Michael   20.0         3     yes\n",
            "g    Matthew   14.5         1     yes\n",
            "h      Laura    NaN         1      no\n",
            "i      Kevin    8.0         2      no\n",
            "j      Jonas   19.0         1     yes\n",
            "\n",
            "        name  score  attempts qualify   color\n",
            "a  Anastasia   12.5         1     yes   black\n",
            "b       Dima    9.0         3      no   white\n",
            "c  Katherine   16.5         2     yes  violet\n",
            "d      James    NaN         3      no   green\n",
            "e      Emily    9.0         2      no     red\n",
            "f    Michael   20.0         3     yes  indigo\n",
            "g    Matthew   14.5         1     yes    blue\n",
            "h      Laura    NaN         1      no  yellow\n",
            "i      Kevin    8.0         2      no  orange\n",
            "j      Jonas   19.0         1     yes   lilac\n",
            "\n",
            "['name', 'score', 'attempts', 'qualify', 'color']\n"
          ]
        }
      ]
    },
    {
      "cell_type": "markdown",
      "source": [
        "**QUESTION 07\n",
        "**"
      ],
      "metadata": {
        "id": "_ZvAy-T4YJhc"
      }
    },
    {
      "cell_type": "code",
      "source": [
        "import pandas as pd\n",
        "import matplotlib.pyplot as plt\n",
        "#Given data\n",
        "data={\"week 1\":[5000,5900,6500,3500,4000,5300,7900],\n",
        "      \"week 2\":[4000,3000,5000,5500,3000,4300,5900],\n",
        "      \"week 3\":[4000,5800,3500,2500,3000,5300,6000],\n",
        "      \"day\":[\"mon\",\"tues\",\"wed\",\"thurs\",\"fri\",\"sat\",\"sun\"]\n",
        "      }\n",
        "#line chart\n",
        "plt.figure(figsize=(6,4)) #6:width #4:height\n",
        "plt.plot(df[\"day\"],df[\"week 1\"],label=\"week 1\",color='red')\n",
        "plt.plot(df[\"day\"],df[\"week 2\"],label=\"week 2\",color='blue')\n",
        "plt.plot(df[\"day\"],df[\"week 3\"],label=\"week 3\",color='brown')\n",
        "plt.title(\"festival sales report\")\n",
        "plt.xlabel(\"day\")\n",
        "plt.ylabel(\"sales\")\n",
        "plt.legend() # legend is a small box in which week 1 week 2 and week 3 is written\n",
        "plt.show() # to display line chart\n"
      ],
      "metadata": {
        "colab": {
          "base_uri": "https://localhost:8080/",
          "height": 410
        },
        "id": "fR9PiEhcYNtm",
        "outputId": "749a1b8f-b824-429b-f557-3b88a14c180f"
      },
      "execution_count": null,
      "outputs": [
        {
          "output_type": "display_data",
          "data": {
            "text/plain": [
              "<Figure size 600x400 with 1 Axes>"
            ],
            "image/png": "[encoded data removed]"
          },
          "metadata": {}
        }
      ]
    },
    {
      "cell_type": "markdown",
      "source": [
        "QUESTION 8\n"
      ],
      "metadata": {
        "id": "e0t0c1M1e1H9"
      }
    },
    {
      "cell_type": "code",
      "source": [
        "import pandas as pd\n",
        "import matplotlib.pyplot as plt\n",
        "#Given data\n",
        "data={\"week 1\":[5000,5900,6500,3500,4000,5300,7900],\n",
        "      \"week 2\":[4000,3000,5000,5500,3000,4300,5900],\n",
        "      \"week 3\":[4000,5800,3500,2500,3000,5300,6000],\n",
        "      \"day\":[\"mon\",\"tues\",\"wed\",\"thurs\",\"fri\",\"sat\",\"sun\"]\n",
        "      }\n",
        "df=pd.DataFrame(data)\n",
        "#bar plot\n",
        "df.plot(x=\"day\",kind=\"bar\",figsize=(4,3))\n",
        "plt.title(\"festival sales report\")\n",
        "plt.xlabel(\"day\")\n",
        "plt.ylabel(\"sales in Rs\")\n",
        "plt.legend()\n",
        "plt.show()"
      ],
      "metadata": {
        "colab": {
          "base_uri": "https://localhost:8080/",
          "height": 355
        },
        "id": "uQGs6ihpe7Fo",
        "outputId": "94d1851d-476f-43ab-9231-fa45daf60a59"
      },
      "execution_count": null,
      "outputs": [
        {
          "output_type": "display_data",
          "data": {
            "text/plain": [
              "<Figure size 400x300 with 1 Axes>"
            ],
            "image/png": "[encoded data removed]"
          },
          "metadata": {}
        }
      ]
    },
    {
      "cell_type": "markdown",
      "source": [
        "**QUESTION 09**"
      ],
      "metadata": {
        "id": "BtkDDkUahasT"
      }
    },
    {
      "cell_type": "code",
      "source": [
        "import pandas as pd\n",
        "#a\n",
        "df=pd.read_csv('/content/drive/MyDrive/dataset/trees.csv')\n",
        "#print(df.head())\n",
        "#b\n",
        "print(df.shape)\n",
        "print()\n",
        "#c\n",
        "print(df[:3])\n",
        "print()\n",
        "#d\n",
        "print(df.describe())\n",
        "print()\n",
        "#e\n",
        "pd.set_option('display.precision', 3)\n",
        "print(df.describe())\n",
        "print()\n",
        "#f\n",
        "print(df.corr())\n",
        "print()\n",
        "#g\n",
        "normalized_df = (df - df.min()) / (df.max() - df.min())\n",
        "print(\"Normalized DataFrame:\\n\", normalized_df.head())\n"
      ],
      "metadata": {
        "colab": {
          "base_uri": "https://localhost:8080/"
        },
        "id": "xon1NYQ3herT",
        "outputId": "76a1ae32-57c7-44fe-f0e9-0c7a002e8a58"
      },
      "execution_count": null,
      "outputs": [
        {
          "output_type": "stream",
          "name": "stdout",
          "text": [
            "(31, 4)\n",
            "\n",
            "   Index   \"Girth (in)\"   \"Height (ft)\"   \"Volume(ft^3)\"\n",
            "0      1            8.3              70             10.3\n",
            "1      2            8.6              65             10.3\n",
            "2      3            8.8              63             10.2\n",
            "\n",
            "           Index   \"Girth (in)\"   \"Height (ft)\"   \"Volume(ft^3)\"\n",
            "count  31.000000      31.000000       31.000000        31.000000\n",
            "mean   16.000000      13.248387       76.000000        30.170968\n",
            "std     9.092121       3.138139        6.371813        16.437846\n",
            "min     1.000000       8.300000       63.000000        10.200000\n",
            "25%     8.500000      11.050000       72.000000        19.400000\n",
            "50%    16.000000      12.900000       76.000000        24.200000\n",
            "75%    23.500000      15.250000       80.000000        37.300000\n",
            "max    31.000000      20.600000       87.000000        77.000000\n",
            "\n",
            "        Index   \"Girth (in)\"   \"Height (ft)\"   \"Volume(ft^3)\"\n",
            "count  31.000         31.000          31.000           31.000\n",
            "mean   16.000         13.248          76.000           30.171\n",
            "std     9.092          3.138           6.372           16.438\n",
            "min     1.000          8.300          63.000           10.200\n",
            "25%     8.500         11.050          72.000           19.400\n",
            "50%    16.000         12.900          76.000           24.200\n",
            "75%    23.500         15.250          80.000           37.300\n",
            "max    31.000         20.600          87.000           77.000\n",
            "\n",
            "                 Index   \"Girth (in)\"   \"Height (ft)\"   \"Volume(ft^3)\"\n",
            "Index            1.000          0.967           0.467            0.903\n",
            " \"Girth (in)\"    0.967          1.000           0.519            0.967\n",
            " \"Height (ft)\"   0.467          0.519           1.000            0.598\n",
            " \"Volume(ft^3)\"  0.903          0.967           0.598            1.000\n",
            "\n",
            "Normalized DataFrame:\n",
            "    Index   \"Girth (in)\"   \"Height (ft)\"   \"Volume(ft^3)\"\n",
            "0  0.000          0.000           0.292            0.001\n",
            "1  0.033          0.024           0.083            0.001\n",
            "2  0.067          0.041           0.000            0.000\n",
            "3  0.100          0.179           0.375            0.093\n",
            "4  0.133          0.195           0.750            0.129\n"
          ]
        }
      ]
    },
    {
      "cell_type": "markdown",
      "source": [
        "**QUESTION** **10**"
      ],
      "metadata": {
        "id": "BkIiwtJW3jlj"
      }
    },
    {
      "cell_type": "code",
      "source": [
        "#a\n",
        "import pandas as pd\n",
        "import statsmodels.api as sm\n",
        "import numpy as np\n",
        "# Load the anes96 dataset\n",
        "anes96 = sm.datasets.anes96\n",
        "# Load the dataset into a DataFrame\n",
        "df = anes96.load_pandas().data\n",
        "# Display the first 5 rows\n",
        "print(df.head())\n",
        "#b\n",
        "# i\n",
        "print(\"Number of observations:\", df.shape[0])\n",
        "print(\"Number of variables:\", df.shape[1])\n",
        "# ii\n",
        "print(\"Youngest age:\", df['age'].min())\n",
        "print(\"Oldest age:\", df['age'].max())\n",
        "# iii\n",
        "print(\"Average days of TV watching:\", round(df['TVnews'].mean(), 1))\n",
        "# iv\n",
        "print(\"Missing values:\\n\", df.isnull().sum())\n",
        "#c\n",
        "#i\n",
        "df.rename(columns={'educ': 'education'}, inplace=True)\n",
        "#ii\n",
        "def assign_party(pid):\n",
        "    if pid in ['Strong Democrat', 'Weak Democrat']:\n",
        "        return 'Democrat'\n",
        "    elif pid in ['Strong Republican', 'Weak Republican']:\n",
        "        return 'Republican'\n",
        "    else:\n",
        "        return 'Independent'\n",
        "df['party'] = df['PID'].apply(assign_party)\n",
        "print(df[['PID', 'party']].head())\n",
        "#iii\n",
        "bins = [18, 24, 34, 44, 54, 64, np.inf]\n",
        "labels = ['18-24', '25-34', '35-44', '45-54', '55-64', '65 and over']\n",
        "df['age_group'] = pd.cut(df['age'], bins=bins, labels=labels, right=False)\n",
        "print(df[['age', 'age_group']].head())"
      ],
      "metadata": {
        "colab": {
          "base_uri": "https://localhost:8080/"
        },
        "id": "jAo-UrNw3ox0",
        "outputId": "c13388e4-b3ac-46d0-ca89-5bae68100550"
      },
      "execution_count": null,
      "outputs": [
        {
          "output_type": "stream",
          "name": "stdout",
          "text": [
            "   popul  TVnews  selfLR  ClinLR  DoleLR  PID   age  educ  income  vote  \\\n",
            "0    0.0     7.0     7.0     1.0     6.0  6.0  36.0   3.0     1.0   1.0   \n",
            "1  190.0     1.0     3.0     3.0     5.0  1.0  20.0   4.0     1.0   0.0   \n",
            "2   31.0     7.0     2.0     2.0     6.0  1.0  24.0   6.0     1.0   0.0   \n",
            "3   83.0     4.0     3.0     4.0     5.0  1.0  28.0   6.0     1.0   0.0   \n",
            "4  640.0     7.0     5.0     6.0     4.0  0.0  68.0   6.0     1.0   0.0   \n",
            "\n",
            "   logpopul  \n",
            "0    -2.303  \n",
            "1     5.248  \n",
            "2     3.437  \n",
            "3     4.420  \n",
            "4     6.462  \n",
            "Number of observations: 944\n",
            "Number of variables: 11\n",
            "Youngest age: 19.0\n",
            "Oldest age: 91.0\n",
            "Average days of TV watching: 3.7\n",
            "Missing values:\n",
            " popul       0\n",
            "TVnews      0\n",
            "selfLR      0\n",
            "ClinLR      0\n",
            "DoleLR      0\n",
            "PID         0\n",
            "age         0\n",
            "educ        0\n",
            "income      0\n",
            "vote        0\n",
            "logpopul    0\n",
            "dtype: int64\n",
            "   PID        party\n",
            "0  6.0  Independent\n",
            "1  1.0  Independent\n",
            "2  1.0  Independent\n",
            "3  1.0  Independent\n",
            "4  0.0  Independent\n",
            "    age    age_group\n",
            "0  36.0        35-44\n",
            "1  20.0        18-24\n",
            "2  24.0        25-34\n",
            "3  28.0        25-34\n",
            "4  68.0  65 and over\n"
          ]
        }
      ]
    }
  ]
}